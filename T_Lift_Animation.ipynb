{
 "cells": [
  {
   "cell_type": "markdown",
   "id": "a4700727-e9a4-4ae8-a25f-ccda123609ce",
   "metadata": {},
   "source": [
    "# Temperature lift animation"
   ]
  },
  {
   "cell_type": "code",
   "execution_count": null,
   "id": "e4b95bd0-67fa-4307-816c-0b155c4dcd6b",
   "metadata": {},
   "outputs": [],
   "source": [
    "import openpyxl\n",
    "import numpy as np\n",
    "import matplotlib.pyplot as plt\n",
    "import pandas as pd\n",
    "from matplotlib import colors\n",
    "from matplotlib.animation import FuncAnimation"
   ]
  }
 ],
 "metadata": {
  "kernelspec": {
   "display_name": "Python 3",
   "language": "python",
   "name": "python3"
  },
  "language_info": {
   "codemirror_mode": {
    "name": "ipython",
    "version": 3
   },
   "file_extension": ".py",
   "mimetype": "text/x-python",
   "name": "python",
   "nbconvert_exporter": "python",
   "pygments_lexer": "ipython3",
   "version": "3.8.8"
  }
 },
 "nbformat": 4,
 "nbformat_minor": 5
}
